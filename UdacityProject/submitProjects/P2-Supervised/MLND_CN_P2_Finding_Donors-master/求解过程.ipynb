{
 "cells": [
  {
   "cell_type": "markdown",
   "metadata": {},
   "source": [
    "# 目标\n",
    "1. 选用几个监督学习算法以准确地建模被调查者的收入\n",
    "2. 从中选择出最佳的候选算法\n",
    "3. 进一步优化该算法\n",
    "4. 准确地预测被调查者年收入是否超过50000美元"
   ]
  },
  {
   "cell_type": "markdown",
   "metadata": {},
   "source": [
    "# 过程\n",
    "## 数据处理\n",
    "1. 数据探索\n",
    "2. 数据预处理\n",
    "3. 数据集切分"
   ]
  }
 ],
 "metadata": {
  "kernelspec": {
   "display_name": "Python 3",
   "language": "python",
   "name": "python3"
  },
  "language_info": {
   "codemirror_mode": {
    "name": "ipython",
    "version": 3
   },
   "file_extension": ".py",
   "mimetype": "text/x-python",
   "name": "python",
   "nbconvert_exporter": "python",
   "pygments_lexer": "ipython3",
   "version": "3.7.1"
  }
 },
 "nbformat": 4,
 "nbformat_minor": 2
}
